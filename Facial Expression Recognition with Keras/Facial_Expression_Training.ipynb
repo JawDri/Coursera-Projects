{
  "nbformat": 4,
  "nbformat_minor": 0,
  "metadata": {
    "accelerator": "GPU",
    "colab": {
      "name": "Facial_Expression_Training I.ipynb",
      "provenance": [],
      "collapsed_sections": []
    },
    "kernelspec": {
      "display_name": "Python 3",
      "language": "python",
      "name": "python3"
    },
    "language_info": {
      "codemirror_mode": {
        "name": "ipython",
        "version": 3
      },
      "file_extension": ".py",
      "mimetype": "text/x-python",
      "name": "python",
      "nbconvert_exporter": "python",
      "pygments_lexer": "ipython3",
      "version": "3.6.8"
    }
  },
  "cells": [
    {
      "cell_type": "markdown",
      "metadata": {
        "id": "pNi1KDbekOxk",
        "colab_type": "text"
      },
      "source": [
        "<h2 align=center> Facial Expression Recognition with Keras</h2>"
      ]
    },
    {
      "cell_type": "markdown",
      "metadata": {
        "id": "jHTjJEh3kOxm",
        "colab_type": "text"
      },
      "source": [
        " "
      ]
    },
    {
      "cell_type": "markdown",
      "metadata": {
        "id": "1Tk8Vo_ikOxn",
        "colab_type": "text"
      },
      "source": [
        "### Task 1: Import Libraries"
      ]
    },
    {
      "cell_type": "code",
      "metadata": {
        "id": "vsSFPjyrk-lf",
        "colab_type": "code",
        "outputId": "76cc9c5c-631e-44d5-924c-d2373aaad5da",
        "colab": {
          "base_uri": "https://localhost:8080/",
          "height": 84
        }
      },
      "source": [
        "!pip install utils"
      ],
      "execution_count": 2,
      "outputs": [
        {
          "output_type": "stream",
          "text": [
            "Collecting utils\n",
            "  Downloading https://files.pythonhosted.org/packages/55/e6/c2d2b2703e7debc8b501caae0e6f7ead148fd0faa3c8131292a599930029/utils-1.0.1-py2.py3-none-any.whl\n",
            "Installing collected packages: utils\n",
            "Successfully installed utils-1.0.1\n"
          ],
          "name": "stdout"
        }
      ]
    },
    {
      "cell_type": "code",
      "metadata": {
        "colab_type": "code",
        "id": "wvGxjjeV-9Ls",
        "outputId": "3e08b8be-954a-4615-90b0-dfe45f1b41d9",
        "colab": {
          "base_uri": "https://localhost:8080/",
          "height": 87
        }
      },
      "source": [
        "import numpy as np\n",
        "import seaborn as sns\n",
        "import matplotlib.pyplot as plt\n",
        "import utils\n",
        "import os\n",
        "%matplotlib inline\n",
        "\n",
        "from tensorflow.keras.preprocessing.image import ImageDataGenerator\n",
        "from tensorflow.keras.layers import Dense, Input, Dropout,Flatten, Conv2D\n",
        "from tensorflow.keras.layers import BatchNormalization, Activation, MaxPooling2D\n",
        "from tensorflow.keras.models import Model, Sequential\n",
        "from tensorflow.keras.optimizers import Adam\n",
        "from tensorflow.keras.callbacks import ModelCheckpoint, ReduceLROnPlateau\n",
        "from tensorflow.keras.utils import plot_model\n",
        "\n",
        "from IPython.display import SVG, Image\n",
        "import tensorflow as tf\n",
        "print(\"Tensorflow version:\", tf.__version__)"
      ],
      "execution_count": 3,
      "outputs": [
        {
          "output_type": "stream",
          "text": [
            "/usr/local/lib/python3.6/dist-packages/statsmodels/tools/_testing.py:19: FutureWarning: pandas.util.testing is deprecated. Use the functions in the public API at pandas.testing instead.\n",
            "  import pandas.util.testing as tm\n"
          ],
          "name": "stderr"
        },
        {
          "output_type": "stream",
          "text": [
            "Tensorflow version: 2.2.0-rc3\n"
          ],
          "name": "stdout"
        }
      ]
    },
    {
      "cell_type": "code",
      "metadata": {
        "id": "zR2cUjZjliwR",
        "colab_type": "code",
        "colab": {}
      },
      "source": [
        "!pip install -q kaggle\n",
        "!mkdir -p ~/.kaggle\n",
        "!cp kaggle.json ~/.kaggle/\n",
        "!ls ~/.kaggle\n",
        "!chmod 600 /root/.kaggle/kaggle.json  # set permission\n",
        "!pip install --upgrade --force-reinstall -- kaggle\n",
        "!kaggle competitions download -c challenges-in-representation-learning-facial-expression-recognition-challenge -p /content/\n",
        "\n"
      ],
      "execution_count": 0,
      "outputs": []
    },
    {
      "cell_type": "code",
      "metadata": {
        "id": "ANYi0hRglnjU",
        "colab_type": "code",
        "colab": {}
      },
      "source": [
        "import os\n",
        "os.chdir('../content/')  #change dir\n",
        "!unzip -q challenges-in-representation-learning-facial-expression-recognition-challenge.zip "
      ],
      "execution_count": 0,
      "outputs": []
    },
    {
      "cell_type": "code",
      "metadata": {
        "id": "j4ANbkvtlpFu",
        "colab_type": "code",
        "colab": {}
      },
      "source": [
        "!tar -xf fer2013.tar.gz"
      ],
      "execution_count": 0,
      "outputs": []
    },
    {
      "cell_type": "code",
      "metadata": {
        "id": "iaShH8ytlt4G",
        "colab_type": "code",
        "colab": {}
      },
      "source": [
        "os.mkdir('/content/Tr')\n",
        "os.mkdir('/content/Tr/0')\n",
        "os.mkdir('/content/Tr/1')\n",
        "os.mkdir('/content/Tr/2')\n",
        "os.mkdir('/content/Tr/3')\n",
        "os.mkdir('/content/Tr/4')\n",
        "os.mkdir('/content/Tr/5')\n",
        "os.mkdir('/content/Tr/6')\n",
        "os.mkdir('/content/Vl')\n",
        "os.mkdir('/content/Vl/0')\n",
        "os.mkdir('/content/Vl/1')\n",
        "os.mkdir('/content/Vl/2')\n",
        "os.mkdir('/content/Vl/3')\n",
        "os.mkdir('/content/Vl/4')\n",
        "os.mkdir('/content/Vl/5')\n",
        "os.mkdir('/content/Vl/6')"
      ],
      "execution_count": 0,
      "outputs": []
    },
    {
      "cell_type": "code",
      "metadata": {
        "id": "6ab6Tax0lxQm",
        "colab_type": "code",
        "colab": {}
      },
      "source": [
        "import numpy as np\n",
        "import cv2\n",
        "import os\n",
        "\n",
        "\n",
        "\n",
        "with open(\"/content/fer2013/fer2013.csv\") as f:\n",
        "    content = f.readlines()\n",
        "\n",
        "lines = np.array(content)\n",
        "\n",
        "num_of_instances = lines.size\n",
        "\n",
        "for i in range(1,num_of_instances):\n",
        "    try:\n",
        "        emotion, img, usage = lines[i].split(\",\")\n",
        "        img = img.replace('\"', '')\n",
        "        img = img.replace('\\n', '')\n",
        "        pixels = img.split(\" \")\n",
        "        \n",
        "        pixels = np.array(pixels, 'float32')\n",
        "        image = pixels.reshape(48, 48)\n",
        "        if usage == 'Training\\n':\n",
        "          if emotion == \"0\":\n",
        "            path_file_name = f\"/content/Tr/0/Training_{i}.jpg\"\n",
        "\n",
        "          if emotion == \"1\":\n",
        "            path_file_name = f\"/content/Tr/1/Training_{i}.jpg\"\n",
        "\n",
        "          if emotion == \"2\":\n",
        "            path_file_name = f\"/content/Tr/2/Training_{i}.jpg\"\n",
        "\n",
        "          if emotion == \"3\":\n",
        "            path_file_name = f\"/content/Tr/3/Training_{i}.jpg\"\n",
        "\n",
        "          if emotion == \"4\":\n",
        "            path_file_name = f\"/content/Tr/4/Training_{i}.jpg\"\n",
        "\n",
        "          if emotion == \"5\":\n",
        "            path_file_name = f\"/content/Tr/5/Training_{i}.jpg\"\n",
        "\n",
        "          if emotion == \"6\":\n",
        "            path_file_name = f\"/content/Tr/6/Training_{i}.jpg\"\n",
        "\n",
        "        if usage == 'PublicTest\\n':\n",
        "          if emotion == \"0\":\n",
        "            path_file_name = f\"/content/Vl/0/PublicTest_{i}.jpg\"\n",
        "\n",
        "          if emotion == \"1\":\n",
        "            path_file_name = f\"/content/Vl/1/PublicTest_{i}.jpg\"\n",
        "\n",
        "          if emotion == \"2\":\n",
        "            path_file_name = f\"/content/Vl/2/PublicTest_{i}.jpg\"\n",
        "\n",
        "          if emotion == \"3\":\n",
        "            path_file_name = f\"/content/Vl/3/PublicTest_{i}.jpg\"\n",
        "\n",
        "          if emotion == \"4\":\n",
        "            path_file_name = f\"/content/Vl/4/PublicTest_{i}.jpg\"\n",
        "\n",
        "          if emotion == \"5\":\n",
        "            path_file_name = f\"/content/Vl/5/PublicTest{i}.jpg\"\n",
        "\n",
        "          if emotion == \"6\":\n",
        "            path_file_name = f\"/content/Vl/6/PublicTest_{i}.jpg\"\n",
        "\n",
        "        cv2.imwrite(path_file_name, image)\n",
        "\n",
        "    except Exception as ex:\n",
        "        print(ex)\n"
      ],
      "execution_count": 0,
      "outputs": []
    },
    {
      "cell_type": "markdown",
      "metadata": {
        "id": "gSQ0o1Bunpqd",
        "colab_type": "text"
      },
      "source": [
        "### Task 2: Samples"
      ]
    },
    {
      "cell_type": "code",
      "metadata": {
        "id": "mxLhfvyLkOxu",
        "colab_type": "code",
        "outputId": "05d08dae-e969-4bd1-83e3-40af5d10bac6",
        "colab": {
          "base_uri": "https://localhost:8080/",
          "height": 134
        }
      },
      "source": [
        "for expression in os.listdir(\"/content/Tr\"):\n",
        "  print(str(len(os.listdir(\"/content/Tr/\" + expression))) + \" \" + expression + \"_images\")"
      ],
      "execution_count": 9,
      "outputs": [
        {
          "output_type": "stream",
          "text": [
            "4965 6_images\n",
            "3171 5_images\n",
            "4830 4_images\n",
            "3995 0_images\n",
            "7215 3_images\n",
            "436 1_images\n",
            "4097 2_images\n"
          ],
          "name": "stdout"
        }
      ]
    },
    {
      "cell_type": "markdown",
      "metadata": {
        "id": "4Rzz9E6CkOxx",
        "colab_type": "text"
      },
      "source": [
        "### Task 3: Generate Training and Validation Batches"
      ]
    },
    {
      "cell_type": "code",
      "metadata": {
        "colab_type": "code",
        "id": "iri8ehFw-9Tj",
        "outputId": "c0ebed45-d65b-4d6f-a602-9794784acd49",
        "colab": {
          "base_uri": "https://localhost:8080/",
          "height": 50
        }
      },
      "source": [
        "img_size = 48\n",
        "batch_size = 64\n",
        "\n",
        "datagen_train = ImageDataGenerator(horizontal_flip= True)\n",
        "train_generator = datagen_train.flow_from_directory('/content/Tr', target_size = (img_size, img_size),\n",
        "                                                    color_mode = 'grayscale',\n",
        "                                                    batch_size = batch_size,\n",
        "                                                    class_mode = 'categorical',\n",
        "                                                    shuffle = True)\n",
        "datagen_val = ImageDataGenerator(horizontal_flip= True)\n",
        "val_generator = datagen_val.flow_from_directory('/content/Vl', target_size = (img_size, img_size),\n",
        "                                                    color_mode = 'grayscale',\n",
        "                                                    batch_size = batch_size,\n",
        "                                                    class_mode = 'categorical',\n",
        "                                                    shuffle = True)"
      ],
      "execution_count": 10,
      "outputs": [
        {
          "output_type": "stream",
          "text": [
            "Found 28709 images belonging to 7 classes.\n",
            "Found 3589 images belonging to 7 classes.\n"
          ],
          "name": "stdout"
        }
      ]
    },
    {
      "cell_type": "markdown",
      "metadata": {
        "id": "VF0MVL4ckOx0",
        "colab_type": "text"
      },
      "source": [
        " "
      ]
    },
    {
      "cell_type": "markdown",
      "metadata": {
        "id": "mHCxlMmckOx0",
        "colab_type": "text"
      },
      "source": [
        "### Task 4: Create CNN Model"
      ]
    },
    {
      "cell_type": "code",
      "metadata": {
        "id": "6Cb25q3EkOx1",
        "colab_type": "code",
        "outputId": "b370dc9a-413b-4160-ee5b-ecd6e10b4efe",
        "colab": {
          "base_uri": "https://localhost:8080/",
          "height": 1000
        }
      },
      "source": [
        "model = Sequential()\n",
        "model.add(Conv2D(64,(3,3), padding = 'same', input_shape = (48,48,1)))\n",
        "model.add(BatchNormalization())\n",
        "model.add(Activation('relu'))\n",
        "model.add(MaxPooling2D(pool_size = (2,2)))\n",
        "model.add(Dropout(0.25))\n",
        "\n",
        "model.add(Conv2D(128,(5,5), padding = 'same'))\n",
        "model.add(BatchNormalization())\n",
        "model.add(Activation('relu'))\n",
        "model.add(MaxPooling2D(pool_size = (2,2)))\n",
        "model.add(Dropout(0.25))\n",
        "\n",
        "model.add(Conv2D(512,(3,3), padding = 'same'))\n",
        "model.add(BatchNormalization())\n",
        "model.add(Activation('relu'))\n",
        "model.add(MaxPooling2D(pool_size = (2,2)))\n",
        "model.add(Dropout(0.25))\n",
        "\n",
        "model.add(Conv2D(512,(3,3), padding = 'same'))\n",
        "model.add(BatchNormalization())\n",
        "model.add(Activation('relu'))\n",
        "model.add(MaxPooling2D(pool_size = (2,2)))\n",
        "model.add(Dropout(0.25))\n",
        "\n",
        "model.add(Flatten())\n",
        "\n",
        "model.add(Dense(256))\n",
        "model.add(BatchNormalization())\n",
        "model.add(Activation('relu'))\n",
        "model.add(Dropout(0.25))\n",
        "\n",
        "model.add(Dense(512))\n",
        "model.add(BatchNormalization())\n",
        "model.add(Activation('relu'))\n",
        "model.add(Dropout(0.25))\n",
        "\n",
        "model.add(Dense(7, activation='softmax'))\n",
        "\n",
        "optimizer = Adam(lr = 0.0005)\n",
        "model.compile(optimizer= optimizer, loss = 'categorical_crossentropy', metrics = ['accuracy'])\n",
        "model.summary()"
      ],
      "execution_count": 11,
      "outputs": [
        {
          "output_type": "stream",
          "text": [
            "Model: \"sequential\"\n",
            "_________________________________________________________________\n",
            "Layer (type)                 Output Shape              Param #   \n",
            "=================================================================\n",
            "conv2d (Conv2D)              (None, 48, 48, 64)        640       \n",
            "_________________________________________________________________\n",
            "batch_normalization (BatchNo (None, 48, 48, 64)        256       \n",
            "_________________________________________________________________\n",
            "activation (Activation)      (None, 48, 48, 64)        0         \n",
            "_________________________________________________________________\n",
            "max_pooling2d (MaxPooling2D) (None, 24, 24, 64)        0         \n",
            "_________________________________________________________________\n",
            "dropout (Dropout)            (None, 24, 24, 64)        0         \n",
            "_________________________________________________________________\n",
            "conv2d_1 (Conv2D)            (None, 24, 24, 128)       204928    \n",
            "_________________________________________________________________\n",
            "batch_normalization_1 (Batch (None, 24, 24, 128)       512       \n",
            "_________________________________________________________________\n",
            "activation_1 (Activation)    (None, 24, 24, 128)       0         \n",
            "_________________________________________________________________\n",
            "max_pooling2d_1 (MaxPooling2 (None, 12, 12, 128)       0         \n",
            "_________________________________________________________________\n",
            "dropout_1 (Dropout)          (None, 12, 12, 128)       0         \n",
            "_________________________________________________________________\n",
            "conv2d_2 (Conv2D)            (None, 12, 12, 512)       590336    \n",
            "_________________________________________________________________\n",
            "batch_normalization_2 (Batch (None, 12, 12, 512)       2048      \n",
            "_________________________________________________________________\n",
            "activation_2 (Activation)    (None, 12, 12, 512)       0         \n",
            "_________________________________________________________________\n",
            "max_pooling2d_2 (MaxPooling2 (None, 6, 6, 512)         0         \n",
            "_________________________________________________________________\n",
            "dropout_2 (Dropout)          (None, 6, 6, 512)         0         \n",
            "_________________________________________________________________\n",
            "conv2d_3 (Conv2D)            (None, 6, 6, 512)         2359808   \n",
            "_________________________________________________________________\n",
            "batch_normalization_3 (Batch (None, 6, 6, 512)         2048      \n",
            "_________________________________________________________________\n",
            "activation_3 (Activation)    (None, 6, 6, 512)         0         \n",
            "_________________________________________________________________\n",
            "max_pooling2d_3 (MaxPooling2 (None, 3, 3, 512)         0         \n",
            "_________________________________________________________________\n",
            "dropout_3 (Dropout)          (None, 3, 3, 512)         0         \n",
            "_________________________________________________________________\n",
            "flatten (Flatten)            (None, 4608)              0         \n",
            "_________________________________________________________________\n",
            "dense (Dense)                (None, 256)               1179904   \n",
            "_________________________________________________________________\n",
            "batch_normalization_4 (Batch (None, 256)               1024      \n",
            "_________________________________________________________________\n",
            "activation_4 (Activation)    (None, 256)               0         \n",
            "_________________________________________________________________\n",
            "dropout_4 (Dropout)          (None, 256)               0         \n",
            "_________________________________________________________________\n",
            "dense_1 (Dense)              (None, 512)               131584    \n",
            "_________________________________________________________________\n",
            "batch_normalization_5 (Batch (None, 512)               2048      \n",
            "_________________________________________________________________\n",
            "activation_5 (Activation)    (None, 512)               0         \n",
            "_________________________________________________________________\n",
            "dropout_5 (Dropout)          (None, 512)               0         \n",
            "_________________________________________________________________\n",
            "dense_2 (Dense)              (None, 7)                 3591      \n",
            "=================================================================\n",
            "Total params: 4,478,727\n",
            "Trainable params: 4,474,759\n",
            "Non-trainable params: 3,968\n",
            "_________________________________________________________________\n"
          ],
          "name": "stdout"
        }
      ]
    },
    {
      "cell_type": "markdown",
      "metadata": {
        "id": "SC733eqvkOx9",
        "colab_type": "text"
      },
      "source": [
        " "
      ]
    },
    {
      "cell_type": "markdown",
      "metadata": {
        "id": "XFqjtWyXkOx9",
        "colab_type": "text"
      },
      "source": [
        "### Task 6: Train and Evaluate Model"
      ]
    },
    {
      "cell_type": "code",
      "metadata": {
        "id": "VJAKhX4ukOx-",
        "colab_type": "code",
        "outputId": "a0c63db8-1634-4c5c-e1f7-c1b392be286a",
        "colab": {
          "base_uri": "https://localhost:8080/",
          "height": 1000
        }
      },
      "source": [
        "epochs = 30\n",
        "steps_per_epoch = train_generator.n//train_generator.batch_size\n",
        "validation_steps = val_generator.n//train_generator.batch_size\n",
        "\n",
        "checkpoint = ModelCheckpoint('model_weights.h5', monitor = 'val_accuracy', \n",
        "                             save_weights_only = True, mode = 'max', verbose = 1)\n",
        "\n",
        "reduce_lr = ReduceLROnPlateau(monitor = 'val_loss', factor = 0.1, patience= 2, \n",
        "                              min_lr = 0.00001, model = 'auto')\n",
        "\n",
        "callbacks = [checkpoint, reduce_lr]\n",
        "\n",
        "history = model.fit(\n",
        "    x =train_generator,\n",
        "    epochs = epochs,\n",
        "    steps_per_epoch = steps_per_epoch,\n",
        "    validation_data = val_generator,\n",
        "    validation_steps = validation_steps,\n",
        "    callbacks = callbacks\n",
        ")"
      ],
      "execution_count": 13,
      "outputs": [
        {
          "output_type": "stream",
          "text": [
            "Epoch 1/30\n",
            "447/448 [============================>.] - ETA: 0s - loss: 1.3088 - accuracy: 0.4969\n",
            "Epoch 00001: saving model to model_weights.h5\n",
            "448/448 [==============================] - 19s 42ms/step - loss: 1.3089 - accuracy: 0.4970 - val_loss: 1.3374 - val_accuracy: 0.4785 - lr: 5.0000e-04\n",
            "Epoch 2/30\n",
            "447/448 [============================>.] - ETA: 0s - loss: 1.2255 - accuracy: 0.5321\n",
            "Epoch 00002: saving model to model_weights.h5\n",
            "448/448 [==============================] - 19s 42ms/step - loss: 1.2254 - accuracy: 0.5322 - val_loss: 1.2276 - val_accuracy: 0.5382 - lr: 5.0000e-04\n",
            "Epoch 3/30\n",
            "447/448 [============================>.] - ETA: 0s - loss: 1.1859 - accuracy: 0.5483\n",
            "Epoch 00003: saving model to model_weights.h5\n",
            "448/448 [==============================] - 19s 42ms/step - loss: 1.1856 - accuracy: 0.5484 - val_loss: 1.2898 - val_accuracy: 0.4978 - lr: 5.0000e-04\n",
            "Epoch 4/30\n",
            "447/448 [============================>.] - ETA: 0s - loss: 1.1409 - accuracy: 0.5640\n",
            "Epoch 00004: saving model to model_weights.h5\n",
            "448/448 [==============================] - 19s 42ms/step - loss: 1.1410 - accuracy: 0.5638 - val_loss: 1.1391 - val_accuracy: 0.5725 - lr: 5.0000e-04\n",
            "Epoch 5/30\n",
            "447/448 [============================>.] - ETA: 0s - loss: 1.1069 - accuracy: 0.5827\n",
            "Epoch 00005: saving model to model_weights.h5\n",
            "448/448 [==============================] - 19s 42ms/step - loss: 1.1066 - accuracy: 0.5827 - val_loss: 1.1251 - val_accuracy: 0.5762 - lr: 5.0000e-04\n",
            "Epoch 6/30\n",
            "447/448 [============================>.] - ETA: 0s - loss: 1.0830 - accuracy: 0.5900\n",
            "Epoch 00006: saving model to model_weights.h5\n",
            "448/448 [==============================] - 19s 42ms/step - loss: 1.0828 - accuracy: 0.5901 - val_loss: 1.1152 - val_accuracy: 0.5787 - lr: 5.0000e-04\n",
            "Epoch 7/30\n",
            "447/448 [============================>.] - ETA: 0s - loss: 1.0533 - accuracy: 0.6007\n",
            "Epoch 00007: saving model to model_weights.h5\n",
            "448/448 [==============================] - 19s 42ms/step - loss: 1.0532 - accuracy: 0.6006 - val_loss: 1.2407 - val_accuracy: 0.5469 - lr: 5.0000e-04\n",
            "Epoch 8/30\n",
            "447/448 [============================>.] - ETA: 0s - loss: 1.0321 - accuracy: 0.6065\n",
            "Epoch 00008: saving model to model_weights.h5\n",
            "448/448 [==============================] - 19s 42ms/step - loss: 1.0317 - accuracy: 0.6065 - val_loss: 1.1273 - val_accuracy: 0.5818 - lr: 5.0000e-04\n",
            "Epoch 9/30\n",
            "447/448 [============================>.] - ETA: 0s - loss: 0.9719 - accuracy: 0.6332\n",
            "Epoch 00009: saving model to model_weights.h5\n",
            "448/448 [==============================] - 19s 42ms/step - loss: 0.9722 - accuracy: 0.6330 - val_loss: 1.0219 - val_accuracy: 0.6256 - lr: 5.0000e-05\n",
            "Epoch 10/30\n",
            "448/448 [==============================] - ETA: 0s - loss: 0.9346 - accuracy: 0.6485\n",
            "Epoch 00010: saving model to model_weights.h5\n",
            "448/448 [==============================] - 19s 42ms/step - loss: 0.9346 - accuracy: 0.6485 - val_loss: 1.0205 - val_accuracy: 0.6203 - lr: 5.0000e-05\n",
            "Epoch 11/30\n",
            "448/448 [==============================] - ETA: 0s - loss: 0.9287 - accuracy: 0.6509\n",
            "Epoch 00011: saving model to model_weights.h5\n",
            "448/448 [==============================] - 19s 42ms/step - loss: 0.9287 - accuracy: 0.6509 - val_loss: 0.9967 - val_accuracy: 0.6323 - lr: 5.0000e-05\n",
            "Epoch 12/30\n",
            "448/448 [==============================] - ETA: 0s - loss: 0.9246 - accuracy: 0.6504\n",
            "Epoch 00012: saving model to model_weights.h5\n",
            "448/448 [==============================] - 19s 42ms/step - loss: 0.9246 - accuracy: 0.6504 - val_loss: 1.0011 - val_accuracy: 0.6345 - lr: 5.0000e-05\n",
            "Epoch 13/30\n",
            "447/448 [============================>.] - ETA: 0s - loss: 0.9135 - accuracy: 0.6578\n",
            "Epoch 00013: saving model to model_weights.h5\n",
            "448/448 [==============================] - 19s 42ms/step - loss: 0.9138 - accuracy: 0.6578 - val_loss: 0.9975 - val_accuracy: 0.6311 - lr: 5.0000e-05\n",
            "Epoch 14/30\n",
            "447/448 [============================>.] - ETA: 0s - loss: 0.8982 - accuracy: 0.6635\n",
            "Epoch 00014: saving model to model_weights.h5\n",
            "448/448 [==============================] - 19s 42ms/step - loss: 0.8983 - accuracy: 0.6633 - val_loss: 0.9903 - val_accuracy: 0.6370 - lr: 1.0000e-05\n",
            "Epoch 15/30\n",
            "448/448 [==============================] - ETA: 0s - loss: 0.8855 - accuracy: 0.6688\n",
            "Epoch 00015: saving model to model_weights.h5\n",
            "448/448 [==============================] - 19s 42ms/step - loss: 0.8855 - accuracy: 0.6688 - val_loss: 0.9893 - val_accuracy: 0.6367 - lr: 1.0000e-05\n",
            "Epoch 16/30\n",
            "447/448 [============================>.] - ETA: 0s - loss: 0.8984 - accuracy: 0.6624\n",
            "Epoch 00016: saving model to model_weights.h5\n",
            "448/448 [==============================] - 19s 42ms/step - loss: 0.8985 - accuracy: 0.6623 - val_loss: 0.9905 - val_accuracy: 0.6311 - lr: 1.0000e-05\n",
            "Epoch 17/30\n",
            "447/448 [============================>.] - ETA: 0s - loss: 0.8913 - accuracy: 0.6619\n",
            "Epoch 00017: saving model to model_weights.h5\n",
            "448/448 [==============================] - 19s 42ms/step - loss: 0.8914 - accuracy: 0.6619 - val_loss: 0.9872 - val_accuracy: 0.6331 - lr: 1.0000e-05\n",
            "Epoch 18/30\n",
            "448/448 [==============================] - ETA: 0s - loss: 0.8858 - accuracy: 0.6691\n",
            "Epoch 00018: saving model to model_weights.h5\n",
            "448/448 [==============================] - 19s 42ms/step - loss: 0.8858 - accuracy: 0.6691 - val_loss: 0.9884 - val_accuracy: 0.6367 - lr: 1.0000e-05\n",
            "Epoch 19/30\n",
            "447/448 [============================>.] - ETA: 0s - loss: 0.8911 - accuracy: 0.6670\n",
            "Epoch 00019: saving model to model_weights.h5\n",
            "448/448 [==============================] - 19s 42ms/step - loss: 0.8912 - accuracy: 0.6670 - val_loss: 0.9881 - val_accuracy: 0.6401 - lr: 1.0000e-05\n",
            "Epoch 20/30\n",
            "447/448 [============================>.] - ETA: 0s - loss: 0.8887 - accuracy: 0.6636\n",
            "Epoch 00020: saving model to model_weights.h5\n",
            "448/448 [==============================] - 19s 42ms/step - loss: 0.8887 - accuracy: 0.6637 - val_loss: 0.9852 - val_accuracy: 0.6373 - lr: 1.0000e-05\n",
            "Epoch 21/30\n",
            "448/448 [==============================] - ETA: 0s - loss: 0.8811 - accuracy: 0.6690\n",
            "Epoch 00021: saving model to model_weights.h5\n",
            "448/448 [==============================] - 19s 42ms/step - loss: 0.8811 - accuracy: 0.6690 - val_loss: 0.9827 - val_accuracy: 0.6398 - lr: 1.0000e-05\n",
            "Epoch 22/30\n",
            "447/448 [============================>.] - ETA: 0s - loss: 0.8790 - accuracy: 0.6694\n",
            "Epoch 00022: saving model to model_weights.h5\n",
            "448/448 [==============================] - 19s 42ms/step - loss: 0.8787 - accuracy: 0.6696 - val_loss: 0.9885 - val_accuracy: 0.6378 - lr: 1.0000e-05\n",
            "Epoch 23/30\n",
            "447/448 [============================>.] - ETA: 0s - loss: 0.8782 - accuracy: 0.6710\n",
            "Epoch 00023: saving model to model_weights.h5\n",
            "448/448 [==============================] - 19s 42ms/step - loss: 0.8781 - accuracy: 0.6709 - val_loss: 0.9812 - val_accuracy: 0.6384 - lr: 1.0000e-05\n",
            "Epoch 24/30\n",
            "447/448 [============================>.] - ETA: 0s - loss: 0.8768 - accuracy: 0.6704\n",
            "Epoch 00024: saving model to model_weights.h5\n",
            "448/448 [==============================] - 19s 42ms/step - loss: 0.8767 - accuracy: 0.6705 - val_loss: 0.9837 - val_accuracy: 0.6445 - lr: 1.0000e-05\n",
            "Epoch 25/30\n",
            "447/448 [============================>.] - ETA: 0s - loss: 0.8684 - accuracy: 0.6724\n",
            "Epoch 00025: saving model to model_weights.h5\n",
            "448/448 [==============================] - 19s 42ms/step - loss: 0.8685 - accuracy: 0.6726 - val_loss: 0.9871 - val_accuracy: 0.6378 - lr: 1.0000e-05\n",
            "Epoch 26/30\n",
            "447/448 [============================>.] - ETA: 0s - loss: 0.8778 - accuracy: 0.6679\n",
            "Epoch 00026: saving model to model_weights.h5\n",
            "448/448 [==============================] - 19s 42ms/step - loss: 0.8776 - accuracy: 0.6679 - val_loss: 0.9877 - val_accuracy: 0.6331 - lr: 1.0000e-05\n",
            "Epoch 27/30\n",
            "447/448 [============================>.] - ETA: 0s - loss: 0.8746 - accuracy: 0.6710\n",
            "Epoch 00027: saving model to model_weights.h5\n",
            "448/448 [==============================] - 19s 42ms/step - loss: 0.8744 - accuracy: 0.6711 - val_loss: 0.9798 - val_accuracy: 0.6406 - lr: 1.0000e-05\n",
            "Epoch 28/30\n",
            "447/448 [============================>.] - ETA: 0s - loss: 0.8659 - accuracy: 0.6737\n",
            "Epoch 00028: saving model to model_weights.h5\n",
            "448/448 [==============================] - 19s 42ms/step - loss: 0.8663 - accuracy: 0.6738 - val_loss: 0.9777 - val_accuracy: 0.6387 - lr: 1.0000e-05\n",
            "Epoch 29/30\n",
            "447/448 [============================>.] - ETA: 0s - loss: 0.8621 - accuracy: 0.6748\n",
            "Epoch 00029: saving model to model_weights.h5\n",
            "448/448 [==============================] - 19s 42ms/step - loss: 0.8620 - accuracy: 0.6750 - val_loss: 0.9822 - val_accuracy: 0.6367 - lr: 1.0000e-05\n",
            "Epoch 30/30\n",
            "447/448 [============================>.] - ETA: 0s - loss: 0.8621 - accuracy: 0.6748\n",
            "Epoch 00030: saving model to model_weights.h5\n",
            "448/448 [==============================] - 19s 42ms/step - loss: 0.8619 - accuracy: 0.6747 - val_loss: 0.9794 - val_accuracy: 0.6398 - lr: 1.0000e-05\n"
          ],
          "name": "stdout"
        }
      ]
    }
  ]
}
